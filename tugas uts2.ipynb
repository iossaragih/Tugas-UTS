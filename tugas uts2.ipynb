{
 "cells": [
  {
   "cell_type": "code",
   "execution_count": 18,
   "metadata": {},
   "outputs": [
    {
     "name": "stdout",
     "output_type": "stream",
     "text": [
      "[\n",
      "    {'name': 'Company 3'},\n",
      "    {'name': 'Company 2'},\n",
      "    {'name': 'Company 1'}\n",
      "]\n"
     ]
    }
   ],
   "source": [
    "# Data perusahaan\n",
    "company_detail_list = [\n",
    "    {\n",
    "        'name': 'Company 1',\n",
    "        'domain': 'Retail',\n",
    "        'country': 'United States'\n",
    "    },\n",
    "    {\n",
    "        'name': 'Company 2',\n",
    "        'domain': 'Technology',\n",
    "        'country': 'United Kingdom'\n",
    "    },\n",
    "    {\n",
    "        'name': 'Company 3',\n",
    "        'domain': 'Healthcare',\n",
    "        'country': 'United States'\n",
    "    }\n",
    "]\n",
    "\n",
    "company_names = sorted([{'name': company['name']} for company in company_detail_list], key=lambda x: x['name'], reverse=True)\n",
    "\n",
    "print(\"[\")\n",
    "for i, company in enumerate(company_names):\n",
    "    if i < len(company_names) - 1:\n",
    "        print(f\"    {company},\")\n",
    "    else:\n",
    "        print(f\"    {company}\")\n",
    "print(\"]\")\n"
   ]
  }
 ],
 "metadata": {
  "kernelspec": {
   "display_name": "Python 3",
   "language": "python",
   "name": "python3"
  },
  "language_info": {
   "codemirror_mode": {
    "name": "ipython",
    "version": 3
   },
   "file_extension": ".py",
   "mimetype": "text/x-python",
   "name": "python",
   "nbconvert_exporter": "python",
   "pygments_lexer": "ipython3",
   "version": "3.12.6"
  }
 },
 "nbformat": 4,
 "nbformat_minor": 2
}
